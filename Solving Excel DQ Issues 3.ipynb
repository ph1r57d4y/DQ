{
 "cells": [
  {
   "cell_type": "code",
   "execution_count": 13,
   "id": "fa1a5e02",
   "metadata": {},
   "outputs": [],
   "source": [
    "import pandas as pd\n",
    "\n",
    "# Создаем исходную таблицу\n",
    "data = pd.read_excel('C:\\\\Datasets\\\\For pd\\\\friends.xlsx')\n",
    "df = pd.DataFrame(data)\n",
    "\n",
    "# Приводим форматы дат к нужному виду\n",
    "df['Дата рождения'] = pd.to_datetime(df['Дата рождения'], errors='coerce').dt.date\n",
    "\n",
    "#Сохраняем изменения в файл Excel\n",
    "df.to_excel('fixed_fri3nds.xlsx', index = False)\n"
   ]
  }
 ],
 "metadata": {
  "kernelspec": {
   "display_name": "Python 3 (ipykernel)",
   "language": "python",
   "name": "python3"
  },
  "language_info": {
   "codemirror_mode": {
    "name": "ipython",
    "version": 3
   },
   "file_extension": ".py",
   "mimetype": "text/x-python",
   "name": "python",
   "nbconvert_exporter": "python",
   "pygments_lexer": "ipython3",
   "version": "3.10.9"
  }
 },
 "nbformat": 4,
 "nbformat_minor": 5
}
