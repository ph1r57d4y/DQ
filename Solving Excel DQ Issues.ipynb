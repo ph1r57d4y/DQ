{
 "cells": [
  {
   "cell_type": "code",
   "execution_count": 6,
   "id": "6f5042b9",
   "metadata": {
    "scrolled": false
   },
   "outputs": [
    {
     "name": "stdout",
     "output_type": "stream",
     "text": [
      "Пропущенные значения:\n",
      "Имя         0\n",
      "Возраст     0\n",
      "Пол         0\n",
      "Зарплата    0\n",
      "dtype: int64\n"
     ]
    }
   ],
   "source": [
    "import pandas as pd\n",
    "\n",
    "# Загрузка данных из Excel файла\n",
    "data = pd.read_excel('C:\\\\Users\\\\ktara\\\\OneDrive\\\\Рабочий стол\\\\data.xlsx')\n",
    "\n",
    "# Проверка пропущенных значений\n",
    "missing_values = data.isnull().sum()\n",
    "print(\"Пропущенные значения:\")\n",
    "print(missing_values)\n",
    "\n",
    "# Удаление строк с некорректными значениями возраста\n",
    "data = data[data['Возраст'] > 0]\n",
    "\n",
    "# Замена несоответствующих значений пола\n",
    "data['Пол'] = data['Пол'].replace({'Female': 'Женский'})\n",
    "\n",
    "# Замена отрицательных значений зарплаты на NaN или другое допустимое значение\n",
    "data['Зарплата'] = data['Зарплата'].apply(lambda x: x if x >= 0 else pd.NaT)\n",
    "\n",
    "# Сохранение исправленных данных в новый Excel файл\n",
    "data.to_excel('fixed_data.xlsx', index=False)\n"
   ]
  },
  {
   "cell_type": "code",
   "execution_count": 4,
   "id": "511a91f5",
   "metadata": {
    "scrolled": true
   },
   "outputs": [
    {
     "name": "stdout",
     "output_type": "stream",
     "text": [
      "C:\\Users\\ktara\n"
     ]
    }
   ],
   "source": [
    "#Смотрим используемую директорию\n",
    "import os\n",
    "\n",
    "current_directory = os.getcwd()\n",
    "print(current_directory)"
   ]
  }
 ],
 "metadata": {
  "kernelspec": {
   "display_name": "Python 3 (ipykernel)",
   "language": "python",
   "name": "python3"
  },
  "language_info": {
   "codemirror_mode": {
    "name": "ipython",
    "version": 3
   },
   "file_extension": ".py",
   "mimetype": "text/x-python",
   "name": "python",
   "nbconvert_exporter": "python",
   "pygments_lexer": "ipython3",
   "version": "3.10.9"
  }
 },
 "nbformat": 4,
 "nbformat_minor": 5
}
