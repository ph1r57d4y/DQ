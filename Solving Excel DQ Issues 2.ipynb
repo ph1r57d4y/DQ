{
 "cells": [
  {
   "cell_type": "code",
   "execution_count": 1,
   "id": "aa2ea717",
   "metadata": {},
   "outputs": [],
   "source": [
    "import pandas as pd\n",
    "# Загрузка данных в Data Frame из Excel-файла\n",
    "df = pd.read_excel('C:\\\\Users\\\\ktara\\\\OneDrive\\\\Рабочий стол\\\\data.xlsx')\n",
    "# Удаление дубликатов из Data Frame\n",
    "df = df.drop_duplicates()\n",
    "# Сохранение исправленных данных в новый Excel файл\n",
    "df.to_excel('fixed_data_2.xlsx', index = False)"
   ]
  }
 ],
 "metadata": {
  "kernelspec": {
   "display_name": "Python 3 (ipykernel)",
   "language": "python",
   "name": "python3"
  },
  "language_info": {
   "codemirror_mode": {
    "name": "ipython",
    "version": 3
   },
   "file_extension": ".py",
   "mimetype": "text/x-python",
   "name": "python",
   "nbconvert_exporter": "python",
   "pygments_lexer": "ipython3",
   "version": "3.10.9"
  }
 },
 "nbformat": 4,
 "nbformat_minor": 5
}
